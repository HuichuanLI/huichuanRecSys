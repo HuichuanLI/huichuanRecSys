{
 "cells": [
  {
   "cell_type": "code",
   "execution_count": 1,
   "metadata": {
    "ExecuteTime": {
     "end_time": "2021-02-20T08:52:14.106310Z",
     "start_time": "2021-02-20T08:52:11.277068Z"
    }
   },
   "outputs": [],
   "source": [
    "import itertools\n",
    "import tensorflow as tf\n",
    "from tensorflow import keras\n",
    "from tensorflow.keras import layers\n",
    "from tensorflow.keras.regularizers import l2\n",
    "from tensorflow.keras.layers import Embedding, Dropout, Dense, Dropout, Input"
   ]
  },
  {
   "cell_type": "code",
   "execution_count": 2,
   "metadata": {
    "ExecuteTime": {
     "end_time": "2021-02-20T08:53:01.502582Z",
     "start_time": "2021-02-20T08:53:01.123934Z"
    }
   },
   "outputs": [
    {
     "name": "stderr",
     "output_type": "stream",
     "text": [
      "WARNING: Logging before flag parsing goes to stderr.\n",
      "W0220 16:53:01.189581 4350225856 deprecation.py:323] From /Users/hui/anaconda3/envs/tensorflow2/lib/python3.6/site-packages/tensorflow_core/python/data/experimental/ops/readers.py:521: parallel_interleave (from tensorflow.python.data.experimental.ops.interleave_ops) is deprecated and will be removed in a future version.\n",
      "Instructions for updating:\n",
      "Use `tf.data.Dataset.interleave(map_func, cycle_length, block_length, num_parallel_calls=tf.data.experimental.AUTOTUNE)` instead. If sloppy execution is desired, use `tf.data.Options.experimental_determinstic`.\n"
     ]
    }
   ],
   "source": [
    "import tensorflow as tf\n",
    "\n",
    "# Training samples path, change to your local path\n",
    "training_samples_file_path = tf.keras.utils.get_file(\"trainingSamples.csv\",\n",
    "                                                     \"file:///Users/hui/Desktop/python/recommend/huichuanRecSys/spark_test/resources/trainingSamples.csv\")\n",
    "# Test samples path, change to your local path\n",
    "test_samples_file_path = tf.keras.utils.get_file(\"testSamples.csv\",\n",
    "                                                 \"file:///Users/hui/Desktop/python/recommend/huichuanRecSys/spark_test/resources/testSamples.csv\")\n",
    "\n",
    "\n",
    "# load sample as tf dataset\n",
    "def get_dataset(file_path):\n",
    "    dataset = tf.data.experimental.make_csv_dataset(\n",
    "        file_path,\n",
    "        batch_size=12,\n",
    "        label_name='label',\n",
    "        na_value=\"0\",\n",
    "        num_epochs=1,\n",
    "        ignore_errors=True)\n",
    "    return dataset\n",
    "\n",
    "\n",
    "# split as test dataset and training dataset\n",
    "train_dataset = get_dataset(training_samples_file_path)\n",
    "test_dataset = get_dataset(test_samples_file_path)\n",
    "\n",
    "# genre features vocabulary\n",
    "genre_vocab = ['Film-Noir', 'Action', 'Adventure', 'Horror', 'Romance', 'War', 'Comedy', 'Western', 'Documentary',\n",
    "               'Sci-Fi', 'Drama', 'Thriller',\n",
    "               'Crime', 'Fantasy', 'Animation', 'IMAX', 'Mystery', 'Children', 'Musical']\n",
    "\n",
    "# split as test dataset and training dataset\n",
    "train_dataset = get_dataset(training_samples_file_path)\n",
    "test_dataset = get_dataset(test_samples_file_path)\n",
    "\n",
    "# genre features vocabulary\n",
    "genre_vocab = ['Film-Noir', 'Action', 'Adventure', 'Horror', 'Romance', 'War', 'Comedy', 'Western', 'Documentary',\n",
    "               'Sci-Fi', 'Drama', 'Thriller',\n",
    "               'Crime', 'Fantasy', 'Animation', 'IMAX', 'Mystery', 'Children', 'Musical']\n",
    "\n",
    "GENRE_FEATURES = {\n",
    "    'userGenre1': genre_vocab,\n",
    "    'userGenre2': genre_vocab,\n",
    "    'userGenre3': genre_vocab,\n",
    "    'userGenre4': genre_vocab,\n",
    "    'userGenre5': genre_vocab,\n",
    "    'movieGenre1': genre_vocab,\n",
    "    'movieGenre2': genre_vocab,\n",
    "    'movieGenre3': genre_vocab\n",
    "}\n",
    "\n",
    "# all categorical features\n",
    "categorical_columns = []\n",
    "for feature, vocab in GENRE_FEATURES.items():\n",
    "    cat_col = tf.feature_column.categorical_column_with_vocabulary_list(\n",
    "        key=feature, vocabulary_list=vocab)\n",
    "    emb_col = tf.feature_column.embedding_column(cat_col, 10)\n",
    "    categorical_columns.append(emb_col)\n",
    "# movie id embedding feature\n",
    "movie_col = tf.feature_column.categorical_column_with_identity(key='movieId', num_buckets=1001)\n",
    "movie_emb_col = tf.feature_column.embedding_column(movie_col, 10)\n",
    "categorical_columns.append(movie_emb_col)\n",
    "\n",
    "# user id embedding feature\n",
    "user_col = tf.feature_column.categorical_column_with_identity(key='userId', num_buckets=30001)\n",
    "user_emb_col = tf.feature_column.embedding_column(user_col, 10)\n",
    "categorical_columns.append(user_emb_col)\n",
    "\n",
    "# all numerical features\n",
    "numerical_columns = [tf.feature_column.numeric_column('releaseYear'),\n",
    "                     tf.feature_column.numeric_column('movieRatingCount'),\n",
    "                     tf.feature_column.numeric_column('movieAvgRating'),\n",
    "                     tf.feature_column.numeric_column('movieRatingStddev'),\n",
    "                     tf.feature_column.numeric_column('userRatingCount'),\n",
    "                     tf.feature_column.numeric_column('userAvgRating'),\n",
    "                     tf.feature_column.numeric_column('userRatingStddev')]\n",
    "\n",
    "# cross feature between current movie and user historical movie\n",
    "rated_movie = tf.feature_column.categorical_column_with_identity(key='userRatedMovie1', num_buckets=1001)\n",
    "crossed_feature = tf.feature_column.indicator_column(tf.feature_column.crossed_column([movie_col, rated_movie], 10000))\n",
    "\n",
    "# define input for keras model\n",
    "inputs = {\n",
    "    'movieAvgRating': tf.keras.layers.Input(name='movieAvgRating', shape=(), dtype='float32'),\n",
    "    'movieRatingStddev': tf.keras.layers.Input(name='movieRatingStddev', shape=(), dtype='float32'),\n",
    "    'movieRatingCount': tf.keras.layers.Input(name='movieRatingCount', shape=(), dtype='int32'),\n",
    "    'userAvgRating': tf.keras.layers.Input(name='userAvgRating', shape=(), dtype='float32'),\n",
    "    'userRatingStddev': tf.keras.layers.Input(name='userRatingStddev', shape=(), dtype='float32'),\n",
    "    'userRatingCount': tf.keras.layers.Input(name='userRatingCount', shape=(), dtype='int32'),\n",
    "    'releaseYear': tf.keras.layers.Input(name='releaseYear', shape=(), dtype='int32'),\n",
    "\n",
    "    'movieId': tf.keras.layers.Input(name='movieId', shape=(), dtype='int32'),\n",
    "    'userId': tf.keras.layers.Input(name='userId', shape=(), dtype='int32'),\n",
    "    \n",
    "    'userGenre1': tf.keras.layers.Input(name='userGenre1', shape=(), dtype='string'),\n",
    "    'userGenre2': tf.keras.layers.Input(name='userGenre2', shape=(), dtype='string'),\n",
    "    'userGenre3': tf.keras.layers.Input(name='userGenre3', shape=(), dtype='string'),\n",
    "    'userGenre4': tf.keras.layers.Input(name='userGenre4', shape=(), dtype='string'),\n",
    "    'userGenre5': tf.keras.layers.Input(name='userGenre5', shape=(), dtype='string'),\n",
    "    'movieGenre1': tf.keras.layers.Input(name='movieGenre1', shape=(), dtype='string'),\n",
    "    'movieGenre2': tf.keras.layers.Input(name='movieGenre2', shape=(), dtype='string'),\n",
    "    'movieGenre3': tf.keras.layers.Input(name='movieGenre3', shape=(), dtype='string'),\n",
    "}"
   ]
  },
  {
   "cell_type": "code",
   "execution_count": 4,
   "metadata": {
    "ExecuteTime": {
     "end_time": "2021-02-20T08:56:50.995333Z",
     "start_time": "2021-02-20T08:56:50.988580Z"
    }
   },
   "outputs": [],
   "source": [
    "def attention(bi_interaction):\n",
    "        a = attention_W(bi_interaction)  # (None, (len(sparse) * len(sparse) - 1) / 2, t)\n",
    "        a = attention_dense(a)  # (None, (len(sparse) * len(sparse) - 1) / 2, 1)\n",
    "        a_score = tf.nn.softmax(a, axis=1)  # (None, (len(sparse) * len(sparse) - 1) / 2, 1)\n",
    "        outputs = tf.reduce_sum(bi_interaction * a_score, axis=1)  # (None, embed_dim)\n",
    "        return outputs\n",
    "\n",
    "    \n",
    "att_vector=8\n",
    "activation='relu'\n",
    "dropout=0.5\n",
    "embed_reg=1e-4\n",
    "\n",
    "attention_W = Dense(units=att_vector, activation=activation, use_bias=True)\n",
    "attention_dense = Dense(units=1, activation=None)\n",
    "dropout = Dropout(dropout)\n",
    "dense = Dense(units=1, activation=None)"
   ]
  },
  {
   "cell_type": "code",
   "execution_count": 6,
   "metadata": {
    "ExecuteTime": {
     "end_time": "2021-02-20T09:02:06.543968Z",
     "start_time": "2021-02-20T09:02:06.083710Z"
    }
   },
   "outputs": [],
   "source": [
    "\n",
    "\n",
    "\n",
    "concat = tf.keras.layers.DenseFeatures(categorical_columns)(inputs)\n",
    "\n",
    "concat = tf.expand_dims(concat,-1)\n",
    "\n",
    "embed = tf.reshape(concat,[-1,10,10])\n",
    "\n",
    "mode = \"max\"\n",
    "row = []\n",
    "col = []\n",
    "for r, c in itertools.combinations(range(len(categorical_columns)), 2):\n",
    "    row.append(r)\n",
    "    col.append(c)\n",
    "p = tf.gather(embed, row, axis=1)  # (None, (len(sparse) * len(sparse) - 1) / 2, k)\n",
    "q = tf.gather(embed, col, axis=1)  # (None, (len(sparse) * len(sparse) - 1) / 2, k)\n",
    "bi_interaction = p * q  # (None, (len(sparse) * len(sparse) - 1) / 2, k)\n",
    "# mode\n",
    "if mode == 'max':\n",
    "    # MaxPooling Layer\n",
    "    x = tf.reduce_sum(bi_interaction, axis=1)   # (None, k)\n",
    "elif mode == 'avg':\n",
    "    # AvgPooling Layer\n",
    "    x = tf.reduce_mean(bi_interaction, axis=1)  # (None, k)\n",
    "else:\n",
    "    # Attention Layer\n",
    "    x = self.attention(bi_interaction)  # (None, k)\n",
    "# Output Layer\n",
    "outputs = tf.nn.sigmoid(dense(x))"
   ]
  },
  {
   "cell_type": "code",
   "execution_count": 7,
   "metadata": {
    "ExecuteTime": {
     "end_time": "2021-02-20T09:02:16.074579Z",
     "start_time": "2021-02-20T09:02:16.066100Z"
    }
   },
   "outputs": [],
   "source": [
    "model = tf.keras.Model(inputs, outputs)\n"
   ]
  },
  {
   "cell_type": "code",
   "execution_count": 8,
   "metadata": {
    "ExecuteTime": {
     "end_time": "2021-02-20T09:02:20.951939Z",
     "start_time": "2021-02-20T09:02:20.943380Z"
    }
   },
   "outputs": [
    {
     "name": "stdout",
     "output_type": "stream",
     "text": [
      "Model: \"model\"\n",
      "__________________________________________________________________________________________________\n",
      "Layer (type)                    Output Shape         Param #     Connected to                     \n",
      "==================================================================================================\n",
      "movieAvgRating (InputLayer)     [(None,)]            0                                            \n",
      "__________________________________________________________________________________________________\n",
      "movieGenre1 (InputLayer)        [(None,)]            0                                            \n",
      "__________________________________________________________________________________________________\n",
      "movieGenre2 (InputLayer)        [(None,)]            0                                            \n",
      "__________________________________________________________________________________________________\n",
      "movieGenre3 (InputLayer)        [(None,)]            0                                            \n",
      "__________________________________________________________________________________________________\n",
      "movieId (InputLayer)            [(None,)]            0                                            \n",
      "__________________________________________________________________________________________________\n",
      "movieRatingCount (InputLayer)   [(None,)]            0                                            \n",
      "__________________________________________________________________________________________________\n",
      "movieRatingStddev (InputLayer)  [(None,)]            0                                            \n",
      "__________________________________________________________________________________________________\n",
      "releaseYear (InputLayer)        [(None,)]            0                                            \n",
      "__________________________________________________________________________________________________\n",
      "userAvgRating (InputLayer)      [(None,)]            0                                            \n",
      "__________________________________________________________________________________________________\n",
      "userGenre1 (InputLayer)         [(None,)]            0                                            \n",
      "__________________________________________________________________________________________________\n",
      "userGenre2 (InputLayer)         [(None,)]            0                                            \n",
      "__________________________________________________________________________________________________\n",
      "userGenre3 (InputLayer)         [(None,)]            0                                            \n",
      "__________________________________________________________________________________________________\n",
      "userGenre4 (InputLayer)         [(None,)]            0                                            \n",
      "__________________________________________________________________________________________________\n",
      "userGenre5 (InputLayer)         [(None,)]            0                                            \n",
      "__________________________________________________________________________________________________\n",
      "userId (InputLayer)             [(None,)]            0                                            \n",
      "__________________________________________________________________________________________________\n",
      "userRatingCount (InputLayer)    [(None,)]            0                                            \n",
      "__________________________________________________________________________________________________\n",
      "userRatingStddev (InputLayer)   [(None,)]            0                                            \n",
      "__________________________________________________________________________________________________\n",
      "dense_features_1 (DenseFeatures (None, 100)          311540      movieAvgRating[0][0]             \n",
      "                                                                 movieGenre1[0][0]                \n",
      "                                                                 movieGenre2[0][0]                \n",
      "                                                                 movieGenre3[0][0]                \n",
      "                                                                 movieId[0][0]                    \n",
      "                                                                 movieRatingCount[0][0]           \n",
      "                                                                 movieRatingStddev[0][0]          \n",
      "                                                                 releaseYear[0][0]                \n",
      "                                                                 userAvgRating[0][0]              \n",
      "                                                                 userGenre1[0][0]                 \n",
      "                                                                 userGenre2[0][0]                 \n",
      "                                                                 userGenre3[0][0]                 \n",
      "                                                                 userGenre4[0][0]                 \n",
      "                                                                 userGenre5[0][0]                 \n",
      "                                                                 userId[0][0]                     \n",
      "                                                                 userRatingCount[0][0]            \n",
      "                                                                 userRatingStddev[0][0]           \n",
      "__________________________________________________________________________________________________\n",
      "tf_op_layer_ExpandDims_1 (Tenso [(None, 100, 1)]     0           dense_features_1[0][0]           \n",
      "__________________________________________________________________________________________________\n",
      "tf_op_layer_Reshape_1 (TensorFl [(None, 10, 10)]     0           tf_op_layer_ExpandDims_1[0][0]   \n",
      "__________________________________________________________________________________________________\n",
      "tf_op_layer_GatherV2_2 (TensorF [(None, 45, 10)]     0           tf_op_layer_Reshape_1[0][0]      \n",
      "__________________________________________________________________________________________________\n",
      "tf_op_layer_GatherV2_3 (TensorF [(None, 45, 10)]     0           tf_op_layer_Reshape_1[0][0]      \n",
      "__________________________________________________________________________________________________\n",
      "tf_op_layer_mul_1 (TensorFlowOp [(None, 45, 10)]     0           tf_op_layer_GatherV2_2[0][0]     \n",
      "                                                                 tf_op_layer_GatherV2_3[0][0]     \n",
      "__________________________________________________________________________________________________\n",
      "tf_op_layer_Sum (TensorFlowOpLa [(None, 10)]         0           tf_op_layer_mul_1[0][0]          \n",
      "__________________________________________________________________________________________________\n",
      "dense_5 (Dense)                 (None, 1)            11          tf_op_layer_Sum[0][0]            \n",
      "__________________________________________________________________________________________________\n",
      "tf_op_layer_Sigmoid (TensorFlow [(None, 1)]          0           dense_5[0][0]                    \n",
      "==================================================================================================\n",
      "Total params: 311,551\n",
      "Trainable params: 311,551\n",
      "Non-trainable params: 0\n",
      "__________________________________________________________________________________________________\n"
     ]
    }
   ],
   "source": [
    "model.summary()"
   ]
  },
  {
   "cell_type": "code",
   "execution_count": 9,
   "metadata": {
    "ExecuteTime": {
     "end_time": "2021-02-20T09:06:57.230741Z",
     "start_time": "2021-02-20T09:02:43.518314Z"
    }
   },
   "outputs": [
    {
     "name": "stdout",
     "output_type": "stream",
     "text": [
      "Epoch 1/5\n",
      "7403/7403 [==============================] - 52s 7ms/step - loss: 0.6387 - accuracy: 0.6269 - auc: 0.6695 - auc_1: 0.7172\n",
      "Epoch 2/5\n",
      "7403/7403 [==============================] - 43s 6ms/step - loss: 0.5615 - accuracy: 0.7104 - auc: 0.7758 - auc_1: 0.8051\n",
      "Epoch 3/5\n",
      "7403/7403 [==============================] - 50s 7ms/step - loss: 0.5123 - accuracy: 0.7482 - auc: 0.8210 - auc_1: 0.8471\n",
      "Epoch 4/5\n",
      "7403/7403 [==============================] - 47s 6ms/step - loss: 0.4693 - accuracy: 0.7771 - auc: 0.8542 - auc_1: 0.8782\n",
      "Epoch 5/5\n",
      "7403/7403 [==============================] - 46s 6ms/step - loss: 0.4297 - accuracy: 0.8001 - auc: 0.8805 - auc_1: 0.9025\n",
      "1870/1870 [==============================] - 10s 5ms/step - loss: 0.6521 - accuracy: 0.6790 - auc: 0.7340 - auc_1: 0.7594\n",
      "\n",
      "\n",
      "Test Loss 0.6521342516742288, Test Accuracy 0.6789661049842834, Test ROC AUC 0.733973503112793, Test PR AUC 0.7594131827354431\n",
      "Predicted good rating: 89.66%  | Actual rating label:  Bad Rating\n",
      "Predicted good rating: 85.71%  | Actual rating label:  Bad Rating\n",
      "Predicted good rating: 99.09%  | Actual rating label:  Good Rating\n",
      "Predicted good rating: 54.65%  | Actual rating label:  Bad Rating\n",
      "Predicted good rating: 62.63%  | Actual rating label:  Bad Rating\n",
      "Predicted good rating: 30.62%  | Actual rating label:  Good Rating\n",
      "Predicted good rating: 14.69%  | Actual rating label:  Bad Rating\n",
      "Predicted good rating: 87.75%  | Actual rating label:  Bad Rating\n",
      "Predicted good rating: 89.31%  | Actual rating label:  Good Rating\n",
      "Predicted good rating: 8.60%  | Actual rating label:  Bad Rating\n",
      "Predicted good rating: 13.72%  | Actual rating label:  Bad Rating\n",
      "Predicted good rating: 0.68%  | Actual rating label:  Good Rating\n"
     ]
    }
   ],
   "source": [
    "# compile the model, set loss function, optimizer and evaluation metrics\n",
    "model.compile(\n",
    "    loss='binary_crossentropy',\n",
    "    optimizer='adam',\n",
    "    metrics=['accuracy', tf.keras.metrics.AUC(curve='ROC'), tf.keras.metrics.AUC(curve='PR')])\n",
    "\n",
    "# train the model\n",
    "model.fit(train_dataset, epochs=5)\n",
    "\n",
    "# evaluate the model\n",
    "test_loss, test_accuracy, test_roc_auc, test_pr_auc = model.evaluate(test_dataset)\n",
    "print('\\n\\nTest Loss {}, Test Accuracy {}, Test ROC AUC {}, Test PR AUC {}'.format(test_loss, test_accuracy,\n",
    "                                                                                   test_roc_auc, test_pr_auc))\n",
    "\n",
    "# print some predict results\n",
    "predictions = model.predict(test_dataset)\n",
    "for prediction, goodRating in zip(predictions[:12], list(test_dataset)[0][1][:12]):\n",
    "    print(\"Predicted good rating: {:.2%}\".format(prediction[0]),\n",
    "          \" | Actual rating label: \",\n",
    "          (\"Good Rating\" if bool(goodRating) else \"Bad Rating\"))\n"
   ]
  },
  {
   "cell_type": "code",
   "execution_count": null,
   "metadata": {},
   "outputs": [],
   "source": []
  }
 ],
 "metadata": {
  "kernelspec": {
   "display_name": "Python [conda env:tensorflow2]",
   "language": "python",
   "name": "conda-env-tensorflow2-py"
  },
  "language_info": {
   "codemirror_mode": {
    "name": "ipython",
    "version": 3
   },
   "file_extension": ".py",
   "mimetype": "text/x-python",
   "name": "python",
   "nbconvert_exporter": "python",
   "pygments_lexer": "ipython3",
   "version": "3.6.8"
  },
  "toc": {
   "base_numbering": 1,
   "nav_menu": {},
   "number_sections": true,
   "sideBar": true,
   "skip_h1_title": false,
   "title_cell": "Table of Contents",
   "title_sidebar": "Contents",
   "toc_cell": false,
   "toc_position": {},
   "toc_section_display": true,
   "toc_window_display": false
  }
 },
 "nbformat": 4,
 "nbformat_minor": 4
}
