{
 "cells": [
  {
   "cell_type": "code",
   "execution_count": 1,
   "metadata": {},
   "outputs": [],
   "source": [
    "import tensorflow as tf\n",
    "from tensorflow.keras.layers import Layer\n",
    "from tensorflow.keras.regularizers import l2\n",
    "\n"
   ]
  },
  {
   "cell_type": "code",
   "execution_count": 2,
   "metadata": {},
   "outputs": [
    {
     "name": "stderr",
     "output_type": "stream",
     "text": [
      "WARNING: Logging before flag parsing goes to stderr.\n",
      "W0206 19:14:56.970047 4666830272 deprecation.py:323] From /Users/hui/anaconda3/envs/tensorflow2/lib/python3.6/site-packages/tensorflow_core/python/data/experimental/ops/readers.py:521: parallel_interleave (from tensorflow.python.data.experimental.ops.interleave_ops) is deprecated and will be removed in a future version.\n",
      "Instructions for updating:\n",
      "Use `tf.data.Dataset.interleave(map_func, cycle_length, block_length, num_parallel_calls=tf.data.experimental.AUTOTUNE)` instead. If sloppy execution is desired, use `tf.data.Options.experimental_determinstic`.\n"
     ]
    }
   ],
   "source": [
    "import tensorflow as tf\n",
    "\n",
    "# Training samples path, change to your local path\n",
    "training_samples_file_path = tf.keras.utils.get_file(\"trainingSamples.csv\",\n",
    "                                                     \"file:///Users/hui/Desktop/python/recommend/huichuanRecSys/spark_test/resources/trainingSamples.csv\")\n",
    "# Test samples path, change to your local path\n",
    "test_samples_file_path = tf.keras.utils.get_file(\"testSamples.csv\",\n",
    "                                                 \"file:///Users/hui/Desktop/python/recommend/huichuanRecSys/spark_test/resources/testSamples.csv\")\n",
    "\n",
    "\n",
    "# load sample as tf dataset\n",
    "def get_dataset(file_path):\n",
    "    dataset = tf.data.experimental.make_csv_dataset(\n",
    "        file_path,\n",
    "        batch_size=12,\n",
    "        label_name='label',\n",
    "        na_value=\"0\",\n",
    "        num_epochs=1,\n",
    "        ignore_errors=True)\n",
    "    return dataset\n",
    "\n",
    "\n",
    "# split as test dataset and training dataset\n",
    "train_dataset = get_dataset(training_samples_file_path)\n",
    "test_dataset = get_dataset(test_samples_file_path)\n",
    "\n",
    "# genre features vocabulary\n",
    "genre_vocab = ['Film-Noir', 'Action', 'Adventure', 'Horror', 'Romance', 'War', 'Comedy', 'Western', 'Documentary',\n",
    "               'Sci-Fi', 'Drama', 'Thriller',\n",
    "               'Crime', 'Fantasy', 'Animation', 'IMAX', 'Mystery', 'Children', 'Musical']\n",
    "\n",
    "# split as test dataset and training dataset\n",
    "train_dataset = get_dataset(training_samples_file_path)\n",
    "test_dataset = get_dataset(test_samples_file_path)\n",
    "\n",
    "# genre features vocabulary\n",
    "genre_vocab = ['Film-Noir', 'Action', 'Adventure', 'Horror', 'Romance', 'War', 'Comedy', 'Western', 'Documentary',\n",
    "               'Sci-Fi', 'Drama', 'Thriller',\n",
    "               'Crime', 'Fantasy', 'Animation', 'IMAX', 'Mystery', 'Children', 'Musical']\n",
    "\n",
    "GENRE_FEATURES = {\n",
    "    'userGenre1': genre_vocab,\n",
    "    'userGenre2': genre_vocab,\n",
    "    'userGenre3': genre_vocab,\n",
    "    'userGenre4': genre_vocab,\n",
    "    'userGenre5': genre_vocab,\n",
    "    'movieGenre1': genre_vocab,\n",
    "    'movieGenre2': genre_vocab,\n",
    "    'movieGenre3': genre_vocab\n",
    "}\n",
    "\n",
    "# all categorical features\n",
    "categorical_columns = []\n",
    "for feature, vocab in GENRE_FEATURES.items():\n",
    "    cat_col = tf.feature_column.categorical_column_with_vocabulary_list(\n",
    "        key=feature, vocabulary_list=vocab)\n",
    "    emb_col = tf.feature_column.embedding_column(cat_col, 10)\n",
    "    categorical_columns.append(emb_col)\n",
    "# movie id embedding feature\n",
    "movie_col = tf.feature_column.categorical_column_with_identity(key='movieId', num_buckets=1001)\n",
    "movie_emb_col = tf.feature_column.embedding_column(movie_col, 10)\n",
    "categorical_columns.append(movie_emb_col)\n",
    "\n",
    "# user id embedding feature\n",
    "user_col = tf.feature_column.categorical_column_with_identity(key='userId', num_buckets=30001)\n",
    "user_emb_col = tf.feature_column.embedding_column(user_col, 10)\n",
    "categorical_columns.append(user_emb_col)\n",
    "\n",
    "# all numerical features\n",
    "numerical_columns = [tf.feature_column.numeric_column('releaseYear'),\n",
    "                     tf.feature_column.numeric_column('movieRatingCount'),\n",
    "                     tf.feature_column.numeric_column('movieAvgRating'),\n",
    "                     tf.feature_column.numeric_column('movieRatingStddev'),\n",
    "                     tf.feature_column.numeric_column('userRatingCount'),\n",
    "                     tf.feature_column.numeric_column('userAvgRating'),\n",
    "                     tf.feature_column.numeric_column('userRatingStddev')]\n",
    "\n",
    "# cross feature between current movie and user historical movie\n",
    "rated_movie = tf.feature_column.categorical_column_with_identity(key='userRatedMovie1', num_buckets=1001)\n",
    "crossed_feature = tf.feature_column.indicator_column(tf.feature_column.crossed_column([movie_col, rated_movie], 10000))\n",
    "\n",
    "# define input for keras model\n",
    "inputs = {\n",
    "    'movieAvgRating': tf.keras.layers.Input(name='movieAvgRating', shape=(), dtype='float32'),\n",
    "    'movieRatingStddev': tf.keras.layers.Input(name='movieRatingStddev', shape=(), dtype='float32'),\n",
    "    'movieRatingCount': tf.keras.layers.Input(name='movieRatingCount', shape=(), dtype='int32'),\n",
    "    'userAvgRating': tf.keras.layers.Input(name='userAvgRating', shape=(), dtype='float32'),\n",
    "    'userRatingStddev': tf.keras.layers.Input(name='userRatingStddev', shape=(), dtype='float32'),\n",
    "    'userRatingCount': tf.keras.layers.Input(name='userRatingCount', shape=(), dtype='int32'),\n",
    "    'releaseYear': tf.keras.layers.Input(name='releaseYear', shape=(), dtype='int32'),\n",
    "\n",
    "    'movieId': tf.keras.layers.Input(name='movieId', shape=(), dtype='int32'),\n",
    "    'userId': tf.keras.layers.Input(name='userId', shape=(), dtype='int32'),\n",
    "    \n",
    "    'userGenre1': tf.keras.layers.Input(name='userGenre1', shape=(), dtype='string'),\n",
    "    'userGenre2': tf.keras.layers.Input(name='userGenre2', shape=(), dtype='string'),\n",
    "    'userGenre3': tf.keras.layers.Input(name='userGenre3', shape=(), dtype='string'),\n",
    "    'userGenre4': tf.keras.layers.Input(name='userGenre4', shape=(), dtype='string'),\n",
    "    'userGenre5': tf.keras.layers.Input(name='userGenre5', shape=(), dtype='string'),\n",
    "    'movieGenre1': tf.keras.layers.Input(name='movieGenre1', shape=(), dtype='string'),\n",
    "    'movieGenre2': tf.keras.layers.Input(name='movieGenre2', shape=(), dtype='string'),\n",
    "    'movieGenre3': tf.keras.layers.Input(name='movieGenre3', shape=(), dtype='string'),\n",
    "}"
   ]
  },
  {
   "cell_type": "code",
   "execution_count": 4,
   "metadata": {},
   "outputs": [],
   "source": [
    "class FM_Layer(Layer):\n",
    "    def __init__(self, feature_columns, k, w_reg=1e-4, v_reg=1e-4):\n",
    "        \"\"\"\n",
    "        Factorization Machines\n",
    "        :param feature_columns: a list containing dense and sparse column feature information\n",
    "        :param k: the latent vector\n",
    "        :param w_reg: the regularization coefficient of parameter w\n",
    "        :param v_reg: the regularization coefficient of parameter v\n",
    "        \"\"\"\n",
    "        super(FM_Layer, self).__init__()\n",
    "        self.dense_feature_columns, self.sparse_feature_columns = feature_columns\n",
    "        self.feature_length = sum([feat.dimension for feat in self.sparse_feature_columns]) \\\n",
    "                              + len(self.dense_feature_columns)\n",
    "        self.k = k\n",
    "        self.w_reg = w_reg\n",
    "        self.v_reg = v_reg\n",
    "\n",
    "    def build(self, input_shape):\n",
    "        self.w0 = self.add_weight(name='w0', shape=(1,),\n",
    "                                  initializer=tf.zeros_initializer(),\n",
    "                                  trainable=True)\n",
    "        self.w = self.add_weight(name='w', shape=(self.feature_length, 1),\n",
    "                                 initializer=tf.random_normal_initializer(),\n",
    "                                 regularizer=l2(self.w_reg),\n",
    "                                 trainable=True)\n",
    "        self.V = self.add_weight(name='V', shape=(self.k, self.feature_length),\n",
    "                                 initializer=tf.random_normal_initializer(),\n",
    "                                 regularizer=l2(self.v_reg),\n",
    "                                 trainable=True)\n",
    "\n",
    "    def call(self, concat, **kwargs):\n",
    "\n",
    "        # first order\n",
    "        first_order = self.w0 + tf.matmul(concat, self.w)\n",
    "        # second order\n",
    "        second_order = 0.5 * tf.reduce_sum(\n",
    "            tf.pow(tf.matmul(concat, tf.transpose(self.V)), 2) -\n",
    "            tf.matmul(tf.pow(concat, 2), tf.pow(tf.transpose(self.V), 2)), axis=1, keepdims=True)\n",
    "        outputs = first_order + second_order\n",
    "        return outputs\n"
   ]
  },
  {
   "cell_type": "code",
   "execution_count": 5,
   "metadata": {},
   "outputs": [],
   "source": [
    "k = 10\n",
    "\n",
    "learning_rate = 0.001\n",
    "batch_size = 4096\n",
    "epochs = 10"
   ]
  },
  {
   "cell_type": "code",
   "execution_count": 6,
   "metadata": {},
   "outputs": [],
   "source": [
    "fm = FM_Layer([numerical_columns,categorical_columns],k)\n",
    "\n"
   ]
  },
  {
   "cell_type": "code",
   "execution_count": 7,
   "metadata": {},
   "outputs": [
    {
     "data": {
      "text/plain": [
       "107"
      ]
     },
     "execution_count": 7,
     "metadata": {},
     "output_type": "execute_result"
    }
   ],
   "source": [
    "fm.feature_length"
   ]
  },
  {
   "cell_type": "code",
   "execution_count": 8,
   "metadata": {},
   "outputs": [
    {
     "data": {
      "text/plain": [
       "10"
      ]
     },
     "execution_count": 8,
     "metadata": {},
     "output_type": "execute_result"
    }
   ],
   "source": [
    "categorical_columns[0].dimension"
   ]
  },
  {
   "cell_type": "code",
   "execution_count": 9,
   "metadata": {
    "scrolled": false
   },
   "outputs": [],
   "source": [
    "concat = tf.keras.layers.DenseFeatures(numerical_columns+categorical_columns)(inputs)\n",
    "\n",
    "fm_outputs = fm(concat)\n",
    "outputs = tf.nn.sigmoid(fm_outputs)\n",
    "        "
   ]
  },
  {
   "cell_type": "code",
   "execution_count": 10,
   "metadata": {},
   "outputs": [],
   "source": [
    "model = tf.keras.Model(inputs, outputs)\n"
   ]
  },
  {
   "cell_type": "code",
   "execution_count": 11,
   "metadata": {},
   "outputs": [
    {
     "name": "stdout",
     "output_type": "stream",
     "text": [
      "Model: \"model\"\n",
      "__________________________________________________________________________________________________\n",
      "Layer (type)                    Output Shape         Param #     Connected to                     \n",
      "==================================================================================================\n",
      "movieAvgRating (InputLayer)     [(None,)]            0                                            \n",
      "__________________________________________________________________________________________________\n",
      "movieGenre1 (InputLayer)        [(None,)]            0                                            \n",
      "__________________________________________________________________________________________________\n",
      "movieGenre2 (InputLayer)        [(None,)]            0                                            \n",
      "__________________________________________________________________________________________________\n",
      "movieGenre3 (InputLayer)        [(None,)]            0                                            \n",
      "__________________________________________________________________________________________________\n",
      "movieId (InputLayer)            [(None,)]            0                                            \n",
      "__________________________________________________________________________________________________\n",
      "movieRatingCount (InputLayer)   [(None,)]            0                                            \n",
      "__________________________________________________________________________________________________\n",
      "movieRatingStddev (InputLayer)  [(None,)]            0                                            \n",
      "__________________________________________________________________________________________________\n",
      "releaseYear (InputLayer)        [(None,)]            0                                            \n",
      "__________________________________________________________________________________________________\n",
      "userAvgRating (InputLayer)      [(None,)]            0                                            \n",
      "__________________________________________________________________________________________________\n",
      "userGenre1 (InputLayer)         [(None,)]            0                                            \n",
      "__________________________________________________________________________________________________\n",
      "userGenre2 (InputLayer)         [(None,)]            0                                            \n",
      "__________________________________________________________________________________________________\n",
      "userGenre3 (InputLayer)         [(None,)]            0                                            \n",
      "__________________________________________________________________________________________________\n",
      "userGenre4 (InputLayer)         [(None,)]            0                                            \n",
      "__________________________________________________________________________________________________\n",
      "userGenre5 (InputLayer)         [(None,)]            0                                            \n",
      "__________________________________________________________________________________________________\n",
      "userId (InputLayer)             [(None,)]            0                                            \n",
      "__________________________________________________________________________________________________\n",
      "userRatingCount (InputLayer)    [(None,)]            0                                            \n",
      "__________________________________________________________________________________________________\n",
      "userRatingStddev (InputLayer)   [(None,)]            0                                            \n",
      "__________________________________________________________________________________________________\n",
      "dense_features (DenseFeatures)  (None, 107)          311540      movieAvgRating[0][0]             \n",
      "                                                                 movieGenre1[0][0]                \n",
      "                                                                 movieGenre2[0][0]                \n",
      "                                                                 movieGenre3[0][0]                \n",
      "                                                                 movieId[0][0]                    \n",
      "                                                                 movieRatingCount[0][0]           \n",
      "                                                                 movieRatingStddev[0][0]          \n",
      "                                                                 releaseYear[0][0]                \n",
      "                                                                 userAvgRating[0][0]              \n",
      "                                                                 userGenre1[0][0]                 \n",
      "                                                                 userGenre2[0][0]                 \n",
      "                                                                 userGenre3[0][0]                 \n",
      "                                                                 userGenre4[0][0]                 \n",
      "                                                                 userGenre5[0][0]                 \n",
      "                                                                 userId[0][0]                     \n",
      "                                                                 userRatingCount[0][0]            \n",
      "                                                                 userRatingStddev[0][0]           \n",
      "__________________________________________________________________________________________________\n",
      "fm__layer (FM_Layer)            (None, 1)            1178        dense_features[0][0]             \n",
      "__________________________________________________________________________________________________\n",
      "tf_op_layer_Sigmoid (TensorFlow [(None, 1)]          0           fm__layer[0][0]                  \n",
      "==================================================================================================\n",
      "Total params: 312,718\n",
      "Trainable params: 312,718\n",
      "Non-trainable params: 0\n",
      "__________________________________________________________________________________________________\n"
     ]
    }
   ],
   "source": [
    "model.summary()"
   ]
  },
  {
   "cell_type": "code",
   "execution_count": 12,
   "metadata": {
    "scrolled": false
   },
   "outputs": [
    {
     "name": "stdout",
     "output_type": "stream",
     "text": [
      "Epoch 1/5\n",
      "7403/7403 [==============================] - 52s 7ms/step - loss: 136.0446 - accuracy: 0.5882 - auc: 0.5833 - auc_1: 0.6205\n",
      "Epoch 2/5\n",
      "7403/7403 [==============================] - 41s 5ms/step - loss: 15.9396 - accuracy: 0.6070 - auc: 0.6152 - auc_1: 0.6493\n",
      "Epoch 3/5\n",
      "7403/7403 [==============================] - 42s 6ms/step - loss: 3.8392 - accuracy: 0.6272 - auc: 0.6456 - auc_1: 0.6768\n",
      "Epoch 4/5\n",
      "7403/7403 [==============================] - 46s 6ms/step - loss: 3.3644 - accuracy: 0.6531 - auc: 0.6784 - auc_1: 0.7024\n",
      "Epoch 5/5\n",
      "7403/7403 [==============================] - 45s 6ms/step - loss: 3.9677 - accuracy: 0.6740 - auc: 0.7051 - auc_1: 0.7252\n",
      "1870/1870 [==============================] - 9s 5ms/step - loss: 1.9255 - accuracy: 0.6237 - auc: 0.6859 - auc_1: 0.6875\n",
      "\n",
      "\n",
      "Test Loss 1.925514672959054, Test Accuracy 0.62370765209198, Test ROC AUC 0.6859161853790283, Test PR AUC 0.687529444694519\n",
      "Predicted good rating: 99.97%  | Actual rating label:  Bad Rating\n",
      "Predicted good rating: 100.00%  | Actual rating label:  Bad Rating\n",
      "Predicted good rating: 99.97%  | Actual rating label:  Good Rating\n",
      "Predicted good rating: 99.98%  | Actual rating label:  Good Rating\n",
      "Predicted good rating: 78.15%  | Actual rating label:  Bad Rating\n",
      "Predicted good rating: 100.00%  | Actual rating label:  Good Rating\n",
      "Predicted good rating: 99.73%  | Actual rating label:  Bad Rating\n",
      "Predicted good rating: 28.28%  | Actual rating label:  Bad Rating\n",
      "Predicted good rating: 99.53%  | Actual rating label:  Good Rating\n",
      "Predicted good rating: 97.78%  | Actual rating label:  Good Rating\n",
      "Predicted good rating: 61.78%  | Actual rating label:  Bad Rating\n",
      "Predicted good rating: 99.50%  | Actual rating label:  Good Rating\n"
     ]
    }
   ],
   "source": [
    "# compile the model, set loss function, optimizer and evaluation metrics\n",
    "model.compile(\n",
    "    loss='binary_crossentropy',\n",
    "    optimizer='adam',\n",
    "    metrics=['accuracy', tf.keras.metrics.AUC(curve='ROC'), tf.keras.metrics.AUC(curve='PR')])\n",
    "\n",
    "# train the model\n",
    "model.fit(train_dataset, epochs=5)\n",
    "\n",
    "# evaluate the model\n",
    "test_loss, test_accuracy, test_roc_auc, test_pr_auc = model.evaluate(test_dataset)\n",
    "print('\\n\\nTest Loss {}, Test Accuracy {}, Test ROC AUC {}, Test PR AUC {}'.format(test_loss, test_accuracy,\n",
    "                                                                                   test_roc_auc, test_pr_auc))\n",
    "\n",
    "# print some predict results\n",
    "predictions = model.predict(test_dataset)\n",
    "for prediction, goodRating in zip(predictions[:12], list(test_dataset)[0][1][:12]):\n",
    "    print(\"Predicted good rating: {:.2%}\".format(prediction[0]),\n",
    "          \" | Actual rating label: \",\n",
    "          (\"Good Rating\" if bool(goodRating) else \"Bad Rating\"))\n"
   ]
  },
  {
   "cell_type": "code",
   "execution_count": null,
   "metadata": {},
   "outputs": [],
   "source": []
  }
 ],
 "metadata": {
  "kernelspec": {
   "display_name": "Python [conda env:tensorflow2]",
   "language": "python",
   "name": "conda-env-tensorflow2-py"
  },
  "language_info": {
   "codemirror_mode": {
    "name": "ipython",
    "version": 3
   },
   "file_extension": ".py",
   "mimetype": "text/x-python",
   "name": "python",
   "nbconvert_exporter": "python",
   "pygments_lexer": "ipython3",
   "version": "3.6.8"
  },
  "toc": {
   "base_numbering": 1,
   "nav_menu": {},
   "number_sections": true,
   "sideBar": true,
   "skip_h1_title": false,
   "title_cell": "Table of Contents",
   "title_sidebar": "Contents",
   "toc_cell": false,
   "toc_position": {},
   "toc_section_display": true,
   "toc_window_display": false
  }
 },
 "nbformat": 4,
 "nbformat_minor": 4
}
